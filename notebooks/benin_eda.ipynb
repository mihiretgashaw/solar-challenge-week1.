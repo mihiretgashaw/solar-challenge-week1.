{
 "cells": [
  {
   "cell_type": "code",
   "execution_count": 25,
   "id": "748b4d70",
   "metadata": {},
   "outputs": [
    {
     "name": "stdout",
     "output_type": "stream",
     "text": [
      "Columns with >5% missing:\n",
      " Comments    100.0\n",
      "dtype: float64\n",
      "Outliers per column:\n",
      " GHI         89\n",
      "DNI          0\n",
      "DHI       3738\n",
      "ModA        27\n",
      "ModB        63\n",
      "WS        3109\n",
      "WSgust    3500\n",
      "dtype: int64\n"
     ]
    }
   ],
   "source": [
    "import pandas as pd\n",
    "import numpy as np\n",
    "from scipy.stats import zscore\n",
    "import os\n",
    "\n",
    "# Load data\n",
    "df = pd.read_csv(r\"C:\\Users\\pc\\Desktop\\10 Academy\\Week 0\\Technical Content\\data\\benin-malanville.csv\")\n",
    "\n",
    "# Missing Value Report\n",
    "null_percent = df.isna().mean() * 100\n",
    "cols_over_5pct = null_percent[null_percent > 5]\n",
    "print(\"Columns with >5% missing:\\n\", cols_over_5pct)\n",
    "\n",
    "# Key columns to clean/analyze\n",
    "key_columns = ['GHI', 'DNI', 'DHI', 'ModA', 'ModB', 'WS', 'WSgust']\n",
    "available_columns = [col for col in key_columns if col in df.columns]\n",
    "\n",
    "# Impute missing values with median first\n",
    "df[available_columns] = df[available_columns].fillna(df[available_columns].median())\n",
    "\n",
    "# Compute Z-scores and remove outliers\n",
    "z_scores = df[available_columns].apply(zscore)\n",
    "outliers = (z_scores.abs() > 3)\n",
    "print(\"Outliers per column:\\n\", outliers.sum())\n",
    "\n",
    "# Create cleaned dataframe without outliers\n",
    "df_cleaned = df[~(outliers.any(axis=1))].copy()\n",
    "\n",
    "# Ensure 'data/' directory exists\n",
    "os.makedirs(\"data\", exist_ok=True)\n",
    "\n",
    "# Ignore data/ folder in git\n",
    "!echo \"data/\" >> .gitignore\n",
    "\n",
    "# Export cleaned data\n",
    "df_cleaned.to_csv(\"data/benin_clean.csv\", index=False)\n"
   ]
  }
 ],
 "metadata": {
  "kernelspec": {
   "display_name": "venv",
   "language": "python",
   "name": "python3"
  },
  "language_info": {
   "codemirror_mode": {
    "name": "ipython",
    "version": 3
   },
   "file_extension": ".py",
   "mimetype": "text/x-python",
   "name": "python",
   "nbconvert_exporter": "python",
   "pygments_lexer": "ipython3",
   "version": "3.11.3"
  }
 },
 "nbformat": 4,
 "nbformat_minor": 5
}
